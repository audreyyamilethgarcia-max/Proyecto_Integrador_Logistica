{
 "cells": [
  {
   "cell_type": "code",
   "execution_count": 1,
   "id": "c596e90b",
   "metadata": {},
   "outputs": [
    {
     "name": "stdout",
     "output_type": "stream",
     "text": [
      "Python: 3.12.1\n",
      "pandas: 2.3.1\n",
      "numpy: 2.3.1\n",
      "matplotlib: 3.10.3\n",
      "\n",
      "Rutas:\n",
      "BASE_DIR: /workspaces/Proyecto_Integrador_Logistica\n",
      "DATA_RAW: /workspaces/Proyecto_Integrador_Logistica/data/raw\n",
      "DATA_PROCESSED: /workspaces/Proyecto_Integrador_Logistica/data/processed\n",
      "\n",
      "Archivo escrito en: /workspaces/Proyecto_Integrador_Logistica/data/raw/hello_setup.csv\n",
      "Lectura OK: True\n"
     ]
    },
    {
     "data": {
      "text/html": [
       "<div>\n",
       "<style scoped>\n",
       "    .dataframe tbody tr th:only-of-type {\n",
       "        vertical-align: middle;\n",
       "    }\n",
       "\n",
       "    .dataframe tbody tr th {\n",
       "        vertical-align: top;\n",
       "    }\n",
       "\n",
       "    .dataframe thead th {\n",
       "        text-align: right;\n",
       "    }\n",
       "</style>\n",
       "<table border=\"1\" class=\"dataframe\">\n",
       "  <thead>\n",
       "    <tr style=\"text-align: right;\">\n",
       "      <th></th>\n",
       "      <th>ok</th>\n",
       "      <th>nota</th>\n",
       "    </tr>\n",
       "  </thead>\n",
       "  <tbody>\n",
       "    <tr>\n",
       "      <th>0</th>\n",
       "      <td>1</td>\n",
       "      <td>setup listo</td>\n",
       "    </tr>\n",
       "  </tbody>\n",
       "</table>\n",
       "</div>"
      ],
      "text/plain": [
       "   ok         nota\n",
       "0   1  setup listo"
      ]
     },
     "execution_count": 1,
     "metadata": {},
     "output_type": "execute_result"
    }
   ],
   "source": [
    "# --- Verificación rápida del entorno ---\n",
    "import sys\n",
    "import pandas as pd\n",
    "import numpy as np\n",
    "import matplotlib\n",
    "\n",
    "print(\"Python:\", sys.version.split()[0])\n",
    "print(\"pandas:\", pd.__version__)\n",
    "print(\"numpy:\", np.__version__)\n",
    "print(\"matplotlib:\", matplotlib.__version__)\n",
    "\n",
    "# --- Rutas base del proyecto (ajusta si cambiaste la estructura) ---\n",
    "from pathlib import Path\n",
    "BASE_DIR = Path.cwd().parent if Path.cwd().name == \"notebooks\" else Path.cwd()\n",
    "DATA_RAW = BASE_DIR / \"data\" / \"raw\"\n",
    "DATA_PROCESSED = BASE_DIR / \"data\" / \"processed\"\n",
    "\n",
    "print(\"\\nRutas:\")\n",
    "print(\"BASE_DIR:\", BASE_DIR)\n",
    "print(\"DATA_RAW:\", DATA_RAW)\n",
    "print(\"DATA_PROCESSED:\", DATA_PROCESSED)\n",
    "\n",
    "# --- Prueba de escritura/lectura mínima ---\n",
    "import pandas as pd\n",
    "df_test = pd.DataFrame({\"ok\":[1], \"nota\":[\"setup listo\"]})\n",
    "tmp_path = DATA_RAW / \"hello_setup.csv\"\n",
    "DATA_RAW.mkdir(parents=True, exist_ok=True)\n",
    "df_test.to_csv(tmp_path, index=False)\n",
    "print(f\"\\nArchivo escrito en: {tmp_path}\")\n",
    "\n",
    "df_loaded = pd.read_csv(tmp_path)\n",
    "print(\"Lectura OK:\", df_loaded.equals(df_test))\n",
    "df_loaded.head()"
   ]
  },
  {
   "cell_type": "code",
   "execution_count": 2,
   "id": "e2559064",
   "metadata": {},
   "outputs": [
    {
     "name": "stdout",
     "output_type": "stream",
     "text": [
      "✅ Archivo guardado en: /workspaces/Proyecto_Integrador_Logistica/data/raw/pedidos_demo.csv\n",
      "Lectura OK: True\n"
     ]
    },
    {
     "data": {
      "text/html": [
       "<div>\n",
       "<style scoped>\n",
       "    .dataframe tbody tr th:only-of-type {\n",
       "        vertical-align: middle;\n",
       "    }\n",
       "\n",
       "    .dataframe tbody tr th {\n",
       "        vertical-align: top;\n",
       "    }\n",
       "\n",
       "    .dataframe thead th {\n",
       "        text-align: right;\n",
       "    }\n",
       "</style>\n",
       "<table border=\"1\" class=\"dataframe\">\n",
       "  <thead>\n",
       "    <tr style=\"text-align: right;\">\n",
       "      <th></th>\n",
       "      <th>id_pedido</th>\n",
       "      <th>cliente</th>\n",
       "      <th>cantidad</th>\n",
       "      <th>fecha_pedido</th>\n",
       "    </tr>\n",
       "  </thead>\n",
       "  <tbody>\n",
       "    <tr>\n",
       "      <th>0</th>\n",
       "      <td>1</td>\n",
       "      <td>Stellantis</td>\n",
       "      <td>100</td>\n",
       "      <td>2025-09-01</td>\n",
       "    </tr>\n",
       "    <tr>\n",
       "      <th>1</th>\n",
       "      <td>2</td>\n",
       "      <td>GM</td>\n",
       "      <td>200</td>\n",
       "      <td>2025-09-02</td>\n",
       "    </tr>\n",
       "    <tr>\n",
       "      <th>2</th>\n",
       "      <td>3</td>\n",
       "      <td>Ford</td>\n",
       "      <td>150</td>\n",
       "      <td>2025-09-03</td>\n",
       "    </tr>\n",
       "  </tbody>\n",
       "</table>\n",
       "</div>"
      ],
      "text/plain": [
       "   id_pedido     cliente  cantidad fecha_pedido\n",
       "0          1  Stellantis       100   2025-09-01\n",
       "1          2          GM       200   2025-09-02\n",
       "2          3        Ford       150   2025-09-03"
      ]
     },
     "execution_count": 2,
     "metadata": {},
     "output_type": "execute_result"
    }
   ],
   "source": [
    "import pandas as pd\n",
    "from pathlib import Path\n",
    "\n",
    "# 1) Definir rutas\n",
    "BASE_DIR = Path.cwd().parent if Path.cwd().name == \"notebooks\" else Path.cwd()\n",
    "DATA_RAW = BASE_DIR / \"data\" / \"raw\"\n",
    "DATA_RAW.mkdir(parents=True, exist_ok=True)  # asegura que exista\n",
    "\n",
    "# 2) Crear un DataFrame pequeño (tabla de ejemplo)\n",
    "df = pd.DataFrame({\n",
    "    \"id_pedido\": [1, 2, 3],\n",
    "    \"cliente\": [\"Stellantis\", \"GM\", \"Ford\"],\n",
    "    \"cantidad\": [100, 200, 150],\n",
    "    \"fecha_pedido\": [\"2025-09-01\", \"2025-09-02\", \"2025-09-03\"]\n",
    "})\n",
    "\n",
    "# 3) Guardar CSV en data/raw\n",
    "csv_path = DATA_RAW / \"pedidos_demo.csv\"\n",
    "df.to_csv(csv_path, index=False)\n",
    "print(f\"✅ Archivo guardado en: {csv_path}\")\n",
    "\n",
    "# 4) Leer el archivo de nuevo\n",
    "df_loaded = pd.read_csv(csv_path)\n",
    "print(\"Lectura OK:\", df_loaded.equals(df))\n",
    "df_loaded"
   ]
  }
 ],
 "metadata": {
  "kernelspec": {
   "display_name": "Python 3",
   "language": "python",
   "name": "python3"
  },
  "language_info": {
   "codemirror_mode": {
    "name": "ipython",
    "version": 3
   },
   "file_extension": ".py",
   "mimetype": "text/x-python",
   "name": "python",
   "nbconvert_exporter": "python",
   "pygments_lexer": "ipython3",
   "version": "3.12.1"
  }
 },
 "nbformat": 4,
 "nbformat_minor": 5
}
